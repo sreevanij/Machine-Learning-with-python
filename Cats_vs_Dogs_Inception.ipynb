{
 "cells": [
  {
   "cell_type": "code",
   "execution_count": 2,
   "metadata": {},
   "outputs": [],
   "source": [
    "import tensorflow as tf\n",
    "from tensorflow.keras import layers\n",
    "from tensorflow.keras import Model\n",
    "from tensorflow.keras.applications.inception_v3 import InceptionV3"
   ]
  },
  {
   "cell_type": "code",
   "execution_count": 5,
   "metadata": {},
   "outputs": [],
   "source": [
    "pre_trained_model = InceptionV3(input_shape=(150,150,3),include_top=False,weights=None)\n",
    "local_weights_file = './inception_v3_weights_tf_dim_ordering_tf_kernels_notop_2.h5'\n",
    "pre_trained_model.load_weights(local_weights_file)"
   ]
  },
  {
   "cell_type": "code",
   "execution_count": 6,
   "metadata": {},
   "outputs": [],
   "source": [
    "for layer in pre_trained_model.layers:\n",
    "    layer.trainable = False"
   ]
  },
  {
   "cell_type": "code",
   "execution_count": 8,
   "metadata": {},
   "outputs": [],
   "source": [
    "#pre_trained_model.summary()"
   ]
  },
  {
   "cell_type": "code",
   "execution_count": 12,
   "metadata": {},
   "outputs": [
    {
     "name": "stdout",
     "output_type": "stream",
     "text": [
      "Tensor(\"mixed7_2/Identity:0\", shape=(None, 7, 7, 768), dtype=float32)\n"
     ]
    }
   ],
   "source": [
    "last_layer = pre_trained_model.get_layer('mixed7')\n",
    "\n",
    "last_output = last_layer.output\n",
    "\n",
    "print(last_output)"
   ]
  },
  {
   "cell_type": "code",
   "execution_count": 18,
   "metadata": {},
   "outputs": [],
   "source": [
    "from tensorflow.keras.optimizers import RMSprop\n",
    "\n",
    "x = layers.Flatten()(last_output)\n",
    "x = layers.Dense(1024,activation='relu')(x)\n",
    "x = layers.Dropout(0.2)(x)\n",
    "x = layers.Dense(1,activation='sigmoid')(x)\n",
    "\n",
    "model = Model(pre_trained_model.input,x)\n",
    "model.compile(optimizer=RMSprop(lr=0.0001),loss='binary_crossentropy',metrics=['accuracy'])"
   ]
  },
  {
   "cell_type": "code",
   "execution_count": 19,
   "metadata": {},
   "outputs": [
    {
     "name": "stdout",
     "output_type": "stream",
     "text": [
      "Found 2000 images belonging to 2 classes.\n",
      "Found 1000 images belonging to 2 classes.\n"
     ]
    }
   ],
   "source": [
    "from tensorflow.keras.preprocessing.image import ImageDataGenerator \n",
    "\n",
    "train_datagen = ImageDataGenerator(rescale=1./255,rotation_range=40,width_shift_range=0.2,\n",
    "                                   height_shift_range=0.2,horizontal_flip=True,shear_range=0.2,zoom_range=0.2)\n",
    "valid_datagen = ImageDataGenerator(rescale=1/255)\n",
    "\n",
    "train_dir = \"cats_and_dogs_filtered/train\"\n",
    "val_dir =\"cats_and_dogs_filtered/validation\"\n",
    "\n",
    "train_generator = train_datagen.flow_from_directory(train_dir,batch_size=20,target_size=(150,150),class_mode='binary')\n",
    "val_generator = valid_datagen.flow_from_directory(val_dir,batch_size=20,target_size=(150,150),class_mode='binary')"
   ]
  },
  {
   "cell_type": "code",
   "execution_count": 20,
   "metadata": {},
   "outputs": [
    {
     "name": "stdout",
     "output_type": "stream",
     "text": [
      "Epoch 1/3\n",
      "100/100 [==============================] - 447s 4s/step - loss: 0.4876 - accuracy: 0.7610 - val_loss: 0.2104 - val_accuracy: 0.9350\n",
      "Epoch 2/3\n",
      "100/100 [==============================] - 450s 4s/step - loss: 0.3574 - accuracy: 0.8420 - val_loss: 0.2611 - val_accuracy: 0.9380\n",
      "Epoch 3/3\n",
      "100/100 [==============================] - 430s 4s/step - loss: 0.3427 - accuracy: 0.8460 - val_loss: 0.3109 - val_accuracy: 0.9340\n"
     ]
    }
   ],
   "source": [
    "history = model.fit_generator(train_generator,validation_data=val_generator,epochs=3,steps_per_epoch=100,validation_steps=50)"
   ]
  },
  {
   "cell_type": "code",
   "execution_count": null,
   "metadata": {},
   "outputs": [],
   "source": []
  }
 ],
 "metadata": {
  "kernelspec": {
   "display_name": "Python 3",
   "language": "python",
   "name": "python3"
  },
  "language_info": {
   "codemirror_mode": {
    "name": "ipython",
    "version": 3
   },
   "file_extension": ".py",
   "mimetype": "text/x-python",
   "name": "python",
   "nbconvert_exporter": "python",
   "pygments_lexer": "ipython3",
   "version": "3.7.4"
  }
 },
 "nbformat": 4,
 "nbformat_minor": 2
}
