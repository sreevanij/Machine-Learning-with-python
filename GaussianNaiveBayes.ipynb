{
 "cells": [
  {
   "cell_type": "code",
   "execution_count": 272,
   "metadata": {},
   "outputs": [],
   "source": [
    "def calculate_msd(rows):\n",
    "    dic = {}\n",
    "    dic2= {}\n",
    "    print(len(rows))\n",
    "    for row in rows:\n",
    "        for k,i in enumerate(row):\n",
    "            if k in dic.keys():\n",
    "                dic[k] = dic[k]+i\n",
    "            else:\n",
    "                dic[k] = i\n",
    "\n",
    "    for i in dic:\n",
    "        dic[i] = dic[i]/len(rows)\n",
    "\n",
    "        \n",
    "    for row in rows:\n",
    "        for k,i in enumerate(row):\n",
    "            if k in dic2.keys():\n",
    "                dic2[k] += (dic[k] - row[k])**2/(len(rows)-1)\n",
    "            else:\n",
    "                dic2[k] = (dic[k] - row[k])**2/(len(rows)-1)\n",
    "    \n",
    "    return dic,dic2\n",
    "\n",
    "\n",
    "def split_class(rows):\n",
    "    dic = {}\n",
    "    for row in rows:\n",
    "        if row[len(row)-1] in dic.keys():\n",
    "            dic[row[len(row)-1]].append(row)\n",
    "        else:\n",
    "            dic[row[len(row)-1]] = [row]\n",
    "    return dic\n",
    "            "
   ]
  },
  {
   "cell_type": "code",
   "execution_count": 273,
   "metadata": {},
   "outputs": [],
   "source": [
    "import math\n",
    "def calculate_probability(data,mean,var):\n",
    "    return (1/math.sqrt(2*3.14*var))*math.exp(((-1)*(data-mean)**2)/(2*var))\n",
    "\n",
    "def cal_prob_res(rows):\n",
    "    dic3 = {}\n",
    "    for row in rows:\n",
    "        k = row[len(row)-1]\n",
    "        if(k in dic3.keys()):\n",
    "            dic3[k] = dic3[k]+1\n",
    "        else:\n",
    "            dic3[k] = 1\n",
    "    for i in dic3:\n",
    "        dic3[i] = dic3[i]/len(rows)\n",
    "        \n",
    "    return dic3"
   ]
  },
  {
   "cell_type": "code",
   "execution_count": 277,
   "metadata": {},
   "outputs": [
    {
     "name": "stdout",
     "output_type": "stream",
     "text": [
      "4\n",
      "4\n",
      "[{0: 5.855, 1: 176.25, 2: 11.25, 3: 0.0}, {0: 5.4175, 1: 132.5, 2: 7.5, 3: 1.0}]\n",
      "[{0: 0.03503333333333331, 1: 122.91666666666667, 2: 0.9166666666666667, 3: 0.0}, {0: 0.097225, 1: 558.3333333333333, 2: 1.6666666666666667, 3: 0.0}]\n"
     ]
    }
   ],
   "source": [
    "#wikipedia page data https://en.wikipedia.org/wiki/Naive_Bayes_classifier#Gaussian_naive_Bayes\n",
    "\n",
    "dataset = [[6,180,12,0],\n",
    "           [5.92,190,11,0],\n",
    "           [5.58,170,12,0],\n",
    "           [5.92,165,10,0],\n",
    "           [5,100,6,1],\n",
    "           [5.5,150,8,1],\n",
    "           [5.42,130,7,1],\n",
    "           [5.75,150,9,1]]\n",
    "\n",
    "classes = split_class(dataset)\n",
    "mean = []\n",
    "sd = []\n",
    "for data in classes:\n",
    "    cal_mean,cal_sd = calculate_msd(classes[data])\n",
    "    mean.append(cal_mean)\n",
    "    sd.append(cal_sd)\n",
    "    \n",
    "print(mean)\n",
    "print(sd)"
   ]
  },
  {
   "cell_type": "code",
   "execution_count": 278,
   "metadata": {},
   "outputs": [
    {
     "data": {
      "text/plain": [
       "5.987994751602617e-06"
      ]
     },
     "execution_count": 278,
     "metadata": {},
     "output_type": "execute_result"
    }
   ],
   "source": [
    "prob = cal_prob_res(dataset)\n",
    "prob\n",
    "\n",
    "calculate_probability(130,176.25,122.916)"
   ]
  },
  {
   "cell_type": "code",
   "execution_count": 279,
   "metadata": {},
   "outputs": [
    {
     "name": "stdout",
     "output_type": "stream",
     "text": [
      "1\n",
      "1\n",
      "0\n",
      "0\n",
      "1\n"
     ]
    }
   ],
   "source": [
    "result=1\n",
    "\n",
    "result1 = []\n",
    "result2 = []\n",
    "#test with a sample data to classify it as 0 or 1\n",
    "testset = [[6,130,8,1],[5.92,165,10,0],[6,180,12,0],[5.58,170,12,0],[5.42,130,7,1]]\n",
    "for test in testset:\n",
    "    for num,i in enumerate(test):\n",
    "        if(num<3):\n",
    "            result = result*calculate_probability(i,mean[0][num],sd[0][num]) \n",
    "    result1.append(prob[0]*result)\n",
    "result =1\n",
    "for test in testset:\n",
    "    for num,i in enumerate(test):\n",
    "        if(num<3):\n",
    "            result = result*calculate_probability(i,mean[1][num],sd[1][num])\n",
    "    result2.append(prob[1]*result)\n",
    "\n",
    "for i,row in enumerate(result1):   \n",
    "    if(result1[i]>result2[i]):\n",
    "        print(0)\n",
    "    else:\n",
    "        print(1)"
   ]
  },
  {
   "cell_type": "code",
   "execution_count": null,
   "metadata": {},
   "outputs": [],
   "source": []
  }
 ],
 "metadata": {
  "kernelspec": {
   "display_name": "Python 3",
   "language": "python",
   "name": "python3"
  },
  "language_info": {
   "codemirror_mode": {
    "name": "ipython",
    "version": 3
   },
   "file_extension": ".py",
   "mimetype": "text/x-python",
   "name": "python",
   "nbconvert_exporter": "python",
   "pygments_lexer": "ipython3",
   "version": "3.7.4"
  }
 },
 "nbformat": 4,
 "nbformat_minor": 2
}
