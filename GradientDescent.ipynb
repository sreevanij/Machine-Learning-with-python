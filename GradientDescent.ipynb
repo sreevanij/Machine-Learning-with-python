{
 "cells": [
  {
   "cell_type": "code",
   "execution_count": 51,
   "metadata": {},
   "outputs": [
    {
     "name": "stdout",
     "output_type": "stream",
     "text": [
      "8.0\n",
      "6.4\n",
      "5.12\n",
      "4.0959997\n",
      "3.2767997\n",
      "2.6214397\n",
      "2.0971518\n",
      "1.6777214\n",
      "1.3421772\n",
      "1.0737417\n",
      "0.85899335\n",
      "0.6871947\n",
      "0.54975575\n",
      "0.4398046\n",
      "0.35184368\n",
      "0.28147495\n",
      "0.22517996\n",
      "0.18014397\n",
      "0.14411518\n",
      "0.11529215\n",
      "0.09223372\n",
      "0.073786974\n",
      "0.05902958\n",
      "0.047223665\n",
      "0.037778933\n",
      "0.030223146\n",
      "0.024178516\n",
      "0.019342814\n",
      "0.015474251\n",
      "0.0123794\n",
      "0.00990352\n",
      "0.007922816\n",
      "0.0063382527\n",
      "0.005070602\n",
      "0.0040564816\n",
      "0.0032451854\n",
      "0.0025961483\n",
      "0.0020769187\n",
      "0.001661535\n",
      "0.001329228\n"
     ]
    }
   ],
   "source": [
    "import tensorflow as tf\n",
    "\n",
    "x1 = tf.Variable(10.0, dtype=tf.float32)\n",
    "#x2 = tf.Variable(10.0,dtype=tf.float32)\n",
    "\n",
    "def x_squared():\n",
    "    return x1**2  \n",
    "\n",
    "def x2_squared():\n",
    "    return x2**2\n",
    "\n",
    "opt = tf.keras.optimizers.SGD(learning_rate=0.1)\n",
    "#opt2 =  tf.keras.optimizers.Adam(learning_rate=0.1)\n",
    "\n",
    "#opt = tf.train.GradientDescentOptimizer(0.2)\n",
    "\n",
    "for i in range(40):\n",
    "    opt.minimize(x_squared,var_list=[x1])\n",
    "    #opt2.minimize(x2_squared,var_list=[x2])\n",
    "    print(x1.numpy())\n",
    "    #print(x2.numpy())\n"
   ]
  },
  {
   "cell_type": "code",
   "execution_count": 55,
   "metadata": {},
   "outputs": [
    {
     "data": {
      "text/plain": [
       "array([[ True, False],\n",
       "       [False,  True],\n",
       "       [False,  True],\n",
       "       [ True, False],\n",
       "       [False, False]])"
      ]
     },
     "execution_count": 55,
     "metadata": {},
     "output_type": "execute_result"
    }
   ],
   "source": [
    "import numpy as np\n",
    "np.random.randn(5,2)<0.2"
   ]
  },
  {
   "cell_type": "code",
   "execution_count": 71,
   "metadata": {},
   "outputs": [
    {
     "data": {
      "text/plain": [
       "[<matplotlib.lines.Line2D at 0x635421090>]"
      ]
     },
     "execution_count": 71,
     "metadata": {},
     "output_type": "execute_result"
    },
    {
     "data": {
      "image/png": "[encoded data removed]",
      "text/plain": [
       "<Figure size 432x288 with 1 Axes>"
      ]
     },
     "metadata": {
      "needs_background": "light"
     },
     "output_type": "display_data"
    }
   ],
   "source": [
    "import matplotlib.pyplot as plt\n",
    "x=np.random.randn(100)\n",
    "y = np.random.randn(100)*20*x\n",
    "plt.plot(x,y,'ro')"
   ]
  },
  {
   "cell_type": "code",
   "execution_count": 73,
   "metadata": {},
   "outputs": [
    {
     "data": {
      "text/plain": [
       "[<matplotlib.lines.Line2D at 0x63551f290>]"
      ]
     },
     "execution_count": 73,
     "metadata": {},
     "output_type": "execute_result"
    },
    {
     "data": {
      "image/png": "[encoded data removed]",
      "text/plain": [
       "<Figure size 432x288 with 1 Axes>"
      ]
     },
     "metadata": {
      "needs_background": "light"
     },
     "output_type": "display_data"
    }
   ],
   "source": [
    "mean_x=np.sum(x)/100\n",
    "mean_y = np.sum(y)/100\n",
    "var_x = np.sum(np.square(x))/100\n",
    "var_y = np.sum(np.square(y))/100\n",
    "norm_x = (x-mean_x)/(var_x**(0.5))\n",
    "norm_y = (y-mean_y)/(var_y**(0.5))\n",
    "plt.plot(norm_x,norm_y,'ro')"
   ]
  },
  {
   "cell_type": "code",
   "execution_count": null,
   "metadata": {},
   "outputs": [],
   "source": []
  }
 ],
 "metadata": {
  "kernelspec": {
   "display_name": "Python 3",
   "language": "python",
   "name": "python3"
  },
  "language_info": {
   "codemirror_mode": {
    "name": "ipython",
    "version": 3
   },
   "file_extension": ".py",
   "mimetype": "text/x-python",
   "name": "python",
   "nbconvert_exporter": "python",
   "pygments_lexer": "ipython3",
   "version": "3.7.4"
  }
 },
 "nbformat": 4,
 "nbformat_minor": 2
}
