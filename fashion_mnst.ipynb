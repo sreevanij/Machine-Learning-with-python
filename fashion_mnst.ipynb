{
 "cells": [
  {
   "cell_type": "code",
   "execution_count": 1,
   "metadata": {},
   "outputs": [],
   "source": [
    "import tensorflow as tf\n",
    "import numpy as np\n",
    "from tensorflow import keras"
   ]
  },
  {
   "cell_type": "code",
   "execution_count": 2,
   "metadata": {},
   "outputs": [],
   "source": [
    "minst_data = keras.datasets.fashion_mnist\n",
    "(train_images,train_labels),(test_images,test_labels) = minst_data.load_data()"
   ]
  },
  {
   "cell_type": "code",
   "execution_count": 6,
   "metadata": {},
   "outputs": [
    {
     "data": {
      "text/plain": [
       "(28, 28)"
      ]
     },
     "execution_count": 6,
     "metadata": {},
     "output_type": "execute_result"
    }
   ],
   "source": [
    "train_images[0]\n",
    "train_images[0].shape"
   ]
  },
  {
   "cell_type": "code",
   "execution_count": 8,
   "metadata": {},
   "outputs": [],
   "source": [
    "train_images= train_images/255\n",
    "test_images = test_images/255\n",
    "\n",
    "model = keras.Sequential([\n",
    "    keras.layers.Flatten(input_shape=(28,28)),\n",
    "    keras.layers.Dense(128,activation=tf.nn.relu),\n",
    "    keras.layers.Dense(32,activation=tf.nn.relu),\n",
    "    keras.layers.Dense(10,activation=tf.nn.softmax)\n",
    "])\n",
    "\n",
    "\n",
    "model.compile(optimizer='adam',loss='sparse_categorical_crossentropy')"
   ]
  },
  {
   "cell_type": "code",
   "execution_count": 27,
   "metadata": {},
   "outputs": [
    {
     "name": "stdout",
     "output_type": "stream",
     "text": [
      "Train on 60000 samples\n",
      "Epoch 1/30\n",
      "60000/60000 [==============================] - 4s 72us/sample - loss: 0.3004\n",
      "Epoch 2/30\n",
      "60000/60000 [==============================] - 4s 73us/sample - loss: 0.2968\n",
      "Epoch 3/30\n",
      "60000/60000 [==============================] - 4s 72us/sample - loss: 0.2938\n",
      "Epoch 4/30\n",
      "60000/60000 [==============================] - 4s 72us/sample - loss: 0.2906\n",
      "Epoch 5/30\n",
      "60000/60000 [==============================] - 4s 72us/sample - loss: 0.2873\n",
      "Epoch 6/30\n",
      "60000/60000 [==============================] - 4s 72us/sample - loss: 0.2835\n",
      "Epoch 7/30\n",
      "60000/60000 [==============================] - 4s 72us/sample - loss: 0.2818\n",
      "Epoch 8/30\n",
      "60000/60000 [==============================] - 4s 73us/sample - loss: 0.2782\n",
      "Epoch 9/30\n",
      "60000/60000 [==============================] - 4s 72us/sample - loss: 0.2751\n",
      "Epoch 10/30\n",
      "60000/60000 [==============================] - 4s 73us/sample - loss: 0.2728\n",
      "Epoch 11/30\n",
      "60000/60000 [==============================] - 4s 73us/sample - loss: 0.2699\n",
      "Epoch 12/30\n",
      "60000/60000 [==============================] - 4s 73us/sample - loss: 0.2669\n",
      "Epoch 13/30\n",
      "60000/60000 [==============================] - 4s 73us/sample - loss: 0.26550s - loss: 0.2\n",
      "Epoch 14/30\n",
      "60000/60000 [==============================] - 4s 73us/sample - loss: 0.2633\n",
      "Epoch 15/30\n",
      "60000/60000 [==============================] - 4s 73us/sample - loss: 0.2603\n",
      "Epoch 16/30\n",
      "60000/60000 [==============================] - 4s 73us/sample - loss: 0.2580\n",
      "Epoch 17/30\n",
      "60000/60000 [==============================] - 5s 85us/sample - loss: 0.2560\n",
      "Epoch 18/30\n",
      "60000/60000 [==============================] - 4s 74us/sample - loss: 0.2534\n",
      "Epoch 19/30\n",
      "60000/60000 [==============================] - 4s 74us/sample - loss: 0.2514\n",
      "Epoch 20/30\n",
      "60000/60000 [==============================] - 4s 73us/sample - loss: 0.2485\n",
      "Epoch 21/30\n",
      "60000/60000 [==============================] - 4s 74us/sample - loss: 0.2469\n",
      "Epoch 22/30\n",
      "60000/60000 [==============================] - 4s 74us/sample - loss: 0.2449\n",
      "Epoch 23/30\n",
      "60000/60000 [==============================] - 4s 75us/sample - loss: 0.2429\n",
      "Epoch 24/30\n",
      "60000/60000 [==============================] - 5s 75us/sample - loss: 0.24120s - loss\n",
      "Epoch 25/30\n",
      "60000/60000 [==============================] - 5s 81us/sample - loss: 0.2393\n",
      "Epoch 26/30\n",
      "60000/60000 [==============================] - 5s 75us/sample - loss: 0.2365\n",
      "Epoch 27/30\n",
      "60000/60000 [==============================] - 4s 75us/sample - loss: 0.2349\n",
      "Epoch 28/30\n",
      "60000/60000 [==============================] - 4s 75us/sample - loss: 0.2319\n",
      "Epoch 29/30\n",
      "60000/60000 [==============================] - 5s 76us/sample - loss: 0.2315\n",
      "Epoch 30/30\n",
      "60000/60000 [==============================] - 5s 75us/sample - loss: 0.2293\n"
     ]
    },
    {
     "data": {
      "text/plain": [
       "<tensorflow.python.keras.callbacks.History at 0x634815510>"
      ]
     },
     "execution_count": 27,
     "metadata": {},
     "output_type": "execute_result"
    }
   ],
   "source": [
    "model.fit(train_images,train_labels,epochs=30)"
   ]
  },
  {
   "cell_type": "code",
   "execution_count": 13,
   "metadata": {},
   "outputs": [
    {
     "name": "stdout",
     "output_type": "stream",
     "text": [
      "Model: \"sequential\"\n",
      "_________________________________________________________________\n",
      "Layer (type)                 Output Shape              Param #   \n",
      "=================================================================\n",
      "flatten_1 (Flatten)          (None, 784)               0         \n",
      "_________________________________________________________________\n",
      "dense_2 (Dense)              (None, 128)               100480    \n",
      "_________________________________________________________________\n",
      "dense_3 (Dense)              (None, 32)                4128      \n",
      "_________________________________________________________________\n",
      "dense_4 (Dense)              (None, 10)                330       \n",
      "=================================================================\n",
      "Total params: 104,938\n",
      "Trainable params: 104,938\n",
      "Non-trainable params: 0\n",
      "_________________________________________________________________\n"
     ]
    }
   ],
   "source": [
    "model.summary()"
   ]
  },
  {
   "cell_type": "code",
   "execution_count": 21,
   "metadata": {},
   "outputs": [
    {
     "name": "stdout",
     "output_type": "stream",
     "text": [
      "10000/1 - 0s - loss: 0.2443\n"
     ]
    },
    {
     "data": {
      "text/plain": [
       "0.3581957492351532"
      ]
     },
     "execution_count": 21,
     "metadata": {},
     "output_type": "execute_result"
    }
   ],
   "source": [
    "model.evaluate(test_images,test_labels,verbose=2)"
   ]
  },
  {
   "cell_type": "code",
   "execution_count": 22,
   "metadata": {},
   "outputs": [],
   "source": [
    "images = model.predict(test_images)"
   ]
  },
  {
   "cell_type": "code",
   "execution_count": 25,
   "metadata": {},
   "outputs": [
    {
     "data": {
      "text/plain": [
       "9"
      ]
     },
     "execution_count": 25,
     "metadata": {},
     "output_type": "execute_result"
    }
   ],
   "source": [
    "np.argmax(images[0])"
   ]
  },
  {
   "cell_type": "code",
   "execution_count": 26,
   "metadata": {},
   "outputs": [
    {
     "data": {
      "text/plain": [
       "9"
      ]
     },
     "execution_count": 26,
     "metadata": {},
     "output_type": "execute_result"
    }
   ],
   "source": [
    "test_labels[0]"
   ]
  },
  {
   "cell_type": "code",
   "execution_count": null,
   "metadata": {},
   "outputs": [],
   "source": []
  }
 ],
 "metadata": {
  "kernelspec": {
   "display_name": "Python 3",
   "language": "python",
   "name": "python3"
  },
  "language_info": {
   "codemirror_mode": {
    "name": "ipython",
    "version": 3
   },
   "file_extension": ".py",
   "mimetype": "text/x-python",
   "name": "python",
   "nbconvert_exporter": "python",
   "pygments_lexer": "ipython3",
   "version": "3.7.4"
  }
 },
 "nbformat": 4,
 "nbformat_minor": 2
}
