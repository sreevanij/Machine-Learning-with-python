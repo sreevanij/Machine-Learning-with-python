{
 "cells": [
  {
   "cell_type": "code",
   "execution_count": 218,
   "metadata": {},
   "outputs": [],
   "source": [
    "import random\n",
    "import numpy as np\n",
    "from math import sqrt\n",
    "\n",
    "def calculate_distance(x1,x2):\n",
    "    dis = 0.0\n",
    "    for i in range(len(x2)-1):\n",
    "        dis += (x1[i]-x2[i])**2\n",
    "    return sqrt(dis)\n",
    "\n",
    "def calculateMean(dataset):\n",
    "    dic =  {}\n",
    "    for data in dataset:\n",
    "        if(data[len(data)-1] in dic.keys()):\n",
    "            dic[data[len(data)-1]].append(data)\n",
    "        else:\n",
    "            dic[data[len(data)-1]] = [data]\n",
    "            \n",
    "    x = list()\n",
    "    for k in dic:\n",
    "        a = np.array(dic[k])\n",
    "        x.append(np.average(a,axis=0))\n",
    "    return x  \n",
    "    \n",
    "        \n",
    "\n",
    "def k_means(data,points):\n",
    "    #points = random.sample(data,k)\n",
    "    for i in data:\n",
    "        min_dist = 9999\n",
    "        for j,point in enumerate(points,start=1):\n",
    "            distance = calculate_distance(i,point)\n",
    "            if(distance < min_dist):\n",
    "                cls = j\n",
    "                min_dist = distance\n",
    "        i.pop()\n",
    "        i.append(cls)\n",
    "    return data"
   ]
  },
  {
   "cell_type": "code",
   "execution_count": 219,
   "metadata": {},
   "outputs": [],
   "source": [
    "import random\n",
    "mylist = [[1,2,6],[3,4,5],[5,6,14],[7,8,13],[9,10,6]]  \n",
    "mylist.append([11,12,7])\n",
    "new_points = random.sample(mylist,3) #select 3 random points to create 3 clusters"
   ]
  },
  {
   "cell_type": "code",
   "execution_count": 220,
   "metadata": {},
   "outputs": [
    {
     "data": {
      "text/plain": [
       "[11, 12, 7, 0]"
      ]
     },
     "execution_count": 220,
     "metadata": {},
     "output_type": "execute_result"
    }
   ],
   "source": [
    "for k in mylist:    #assign all to class 0\n",
    "    k.append(0)"
   ]
  },
  {
   "cell_type": "code",
   "execution_count": 221,
   "metadata": {},
   "outputs": [
    {
     "name": "stdout",
     "output_type": "stream",
     "text": [
      "[[1, 2, 6, 2], [3, 4, 5, 2], [5, 6, 14, 1], [7, 8, 13, 1], [9, 10, 6, 3], [11, 12, 7, 3]]\n",
      "[[1, 2, 6, 1], [3, 4, 5, 1], [5, 6, 14, 2], [7, 8, 13, 2], [9, 10, 6, 3], [11, 12, 7, 3]]\n",
      "[[1, 2, 6, 1], [3, 4, 5, 1], [5, 6, 14, 2], [7, 8, 13, 2], [9, 10, 6, 3], [11, 12, 7, 3]]\n"
     ]
    }
   ],
   "source": [
    "points = list()\n",
    "while(not(np.array_equal(points,new_points))):\n",
    "    points=np.copy(new_points)\n",
    "    clust = k_means(mylist,points)\n",
    "    new_points = calculateMean(clust)\n",
    "    print(clust)\n"
   ]
  },
  {
   "cell_type": "code",
   "execution_count": null,
   "metadata": {},
   "outputs": [],
   "source": []
  }
 ],
 "metadata": {
  "kernelspec": {
   "display_name": "Python 3",
   "language": "python",
   "name": "python3"
  },
  "language_info": {
   "codemirror_mode": {
    "name": "ipython",
    "version": 3
   },
   "file_extension": ".py",
   "mimetype": "text/x-python",
   "name": "python",
   "nbconvert_exporter": "python",
   "pygments_lexer": "ipython3",
   "version": "3.7.4"
  }
 },
 "nbformat": 4,
 "nbformat_minor": 2
}
