{
 "cells": [
  {
   "cell_type": "code",
   "execution_count": 140,
   "metadata": {},
   "outputs": [],
   "source": [
    "from math import sqrt\n",
    "def eudistance(row1,row2):\n",
    "    distance = 0.0\n",
    "    for i in range(len(row1)-1):\n",
    "        distance+= (row2[i]-row1[i])**2\n",
    "    return sqrt(distance)\n",
    "\n",
    "def get_neighbours(train,test_row,num_neighbours):\n",
    "    distances = list()\n",
    "    for i in train:\n",
    "        distance = eudistance(test_row,i)\n",
    "        distances.append((i,distance))\n",
    "    distances.sort(key=lambda tup:tup[1])\n",
    "    print(\"Sorted Distances\")\n",
    "    print(distances)\n",
    "    neighbours = list()\n",
    "    for i in range(num_neighbours):\n",
    "        neighbours.append(distances[i][0])\n",
    "    print(\"Top k neighbours\")\n",
    "    print(neighbours)\n",
    "    return neighbours\n",
    "\n",
    "def predict(train,test_row,num_of_neighbours):\n",
    "    neighbours = get_neighbours(train,test_row,num_of_neighbours)\n",
    "    output = [row[-1] for row in neighbours]\n",
    "    pre = max(set(output), key=output.count)\n",
    "    return pre"
   ]
  },
  {
   "cell_type": "code",
   "execution_count": 141,
   "metadata": {},
   "outputs": [
    {
     "name": "stdout",
     "output_type": "stream",
     "text": [
      "Sorted Distances\n",
      "[([3.396561688, 4.400293529, 0], 0.0), ([3.06407232, 3.005305973, 0], 1.4340639669233348), ([2.7810836, 2.550537003, 0], 1.9494646655653247), ([1.465489372, 2.362125076, 0], 2.80769851166859), ([5.332441248, 2.088626775, 1], 3.015200300539699), ([1.38807019, 1.850220317, 0], 3.2460609181126405), ([7.673756466, 3.508563011, 1], 4.36916221782655), ([6.922596716, 1.77106367, 1], 4.398382960832324), ([7.627531214, 2.759262235, 1], 4.538070827766793), ([8.675418651, -0.242068655, 1], 7.029783601452239)]\n",
      "Top k neighbours\n",
      "[[3.396561688, 4.400293529, 0], [3.06407232, 3.005305973, 0], [2.7810836, 2.550537003, 0]]\n"
     ]
    },
    {
     "data": {
      "text/plain": [
       "0"
      ]
     },
     "execution_count": 141,
     "metadata": {},
     "output_type": "execute_result"
    }
   ],
   "source": [
    "dataset = [[2.7810836,2.550537003,0],\n",
    "[1.465489372,2.362125076,0],\n",
    "[3.396561688,4.400293529,0],\n",
    "[1.38807019,1.850220317,0],\n",
    "[3.06407232,3.005305973,0],\n",
    "[7.627531214,2.759262235,1],\n",
    "[5.332441248,2.088626775,1],\n",
    "[6.922596716,1.77106367,1],\n",
    "[8.675418651,-0.242068655,1],\n",
    "[7.673756466,3.508563011,1]]\n",
    "\n",
    "predict(dataset,dataset[2],3)"
   ]
  },
  {
   "cell_type": "code",
   "execution_count": null,
   "metadata": {},
   "outputs": [],
   "source": []
  }
 ],
 "metadata": {
  "kernelspec": {
   "display_name": "Python 3",
   "language": "python",
   "name": "python3"
  },
  "language_info": {
   "codemirror_mode": {
    "name": "ipython",
    "version": 3
   },
   "file_extension": ".py",
   "mimetype": "text/x-python",
   "name": "python",
   "nbconvert_exporter": "python",
   "pygments_lexer": "ipython3",
   "version": "3.7.4"
  }
 },
 "nbformat": 4,
 "nbformat_minor": 2
}
