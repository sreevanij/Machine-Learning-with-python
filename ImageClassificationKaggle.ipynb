{
 "cells": [
  {
   "cell_type": "raw",
   "metadata": {},
   "source": [
    "Intel image classification from kaggle\n",
    "https://www.kaggle.com/puneet6060/intel-image-classification"
   ]
  },
  {
   "cell_type": "code",
   "execution_count": 95,
   "metadata": {},
   "outputs": [],
   "source": [
    "import numpy as np\n",
    "import os\n",
    "from sklearn.metrics import confusion_matrix\n",
    "import seaborn as sb\n",
    "from sklearn.utils import shuffle\n",
    "import matplotlib.pyplot as plt\n",
    "import cv2\n",
    "import tensorflow as tf"
   ]
  },
  {
   "cell_type": "code",
   "execution_count": 96,
   "metadata": {},
   "outputs": [],
   "source": [
    "class_names = ['mountain','street','glacier','buildings','sea','forest']\n",
    "class_names_label = {'mountain':0,\n",
    "                    'street':1,\n",
    "                    'glacier':2, 'buildings':3,'sea':4 , 'forest':5}\n",
    "size = (150,150)\n",
    "output = []"
   ]
  },
  {
   "cell_type": "code",
   "execution_count": 97,
   "metadata": {},
   "outputs": [],
   "source": [
    "def data_load():\n",
    "    datasets = ['seg_train/seg_train','seg_test/seg_test']\n",
    "    for data in datasets:\n",
    "        directory = './images/'+data\n",
    "        images = []\n",
    "        labels = []\n",
    "        for folder in os.listdir(directory):\n",
    "            if not folder.startswith('.'):\n",
    "                curr_label = class_names_label[folder]\n",
    "                for file in os.listdir(directory+\"/\"+folder):\n",
    "                    img_path = directory + \"/\"+folder+\"/\"+file\n",
    "                    curr_img = cv2.imread(img_path)\n",
    "                    curr_img = cv2.resize(curr_img,size)\n",
    "                    images.append(curr_img)\n",
    "                    labels.append(curr_label)\n",
    "        images,labels = shuffle(images,labels)\n",
    "        images = np.array(images,dtype='float32')\n",
    "        labels = np.array(labels, dtype='int32')\n",
    "        output.append((images,labels))\n",
    "    return output"
   ]
  },
  {
   "cell_type": "code",
   "execution_count": 98,
   "metadata": {},
   "outputs": [],
   "source": [
    "(train_images,train_labels),(test_images,test_labels) = data_load()"
   ]
  },
  {
   "cell_type": "code",
   "execution_count": 99,
   "metadata": {},
   "outputs": [
    {
     "data": {
      "text/plain": [
       "14034"
      ]
     },
     "execution_count": 99,
     "metadata": {},
     "output_type": "execute_result"
    }
   ],
   "source": [
    "train_labels.shape[0]"
   ]
  },
  {
   "cell_type": "code",
   "execution_count": 100,
   "metadata": {},
   "outputs": [
    {
     "data": {
      "text/plain": [
       "3000"
      ]
     },
     "execution_count": 100,
     "metadata": {},
     "output_type": "execute_result"
    }
   ],
   "source": [
    "test_labels.shape[0]"
   ]
  },
  {
   "cell_type": "code",
   "execution_count": 101,
   "metadata": {},
   "outputs": [],
   "source": [
    "trian_images = train_images/255.0\n",
    "test_images = test_images/255.0"
   ]
  },
  {
   "cell_type": "code",
   "execution_count": 102,
   "metadata": {},
   "outputs": [
    {
     "name": "stderr",
     "output_type": "stream",
     "text": [
      "Clipping input data to the valid range for imshow with RGB data ([0..1] for floats or [0..255] for integers).\n"
     ]
    },
    {
     "data": {
      "image/png": "[encoded data removed]",
      "text/plain": [
       "<Figure size 432x288 with 1 Axes>"
      ]
     },
     "metadata": {
      "needs_background": "light"
     },
     "output_type": "display_data"
    }
   ],
   "source": [
    "plt.figure()\n",
    "plt.imshow(train_images[2])\n",
    "plt.title(class_names[train_labels[2]])\n",
    "plt.grid(False)\n",
    "plt.show()"
   ]
  },
  {
   "cell_type": "code",
   "execution_count": 103,
   "metadata": {},
   "outputs": [],
   "source": [
    "model = tf.keras.Sequential([\n",
    "    tf.keras.layers.Conv2D(32, (3, 3), activation = 'relu', input_shape = (150, 150, 3)),\n",
    "    tf.keras.layers.MaxPooling2D(2,2),\n",
    "    tf.keras.layers.Conv2D(32, (3, 3), activation = 'relu'),\n",
    "    tf.keras.layers.MaxPooling2D(2,2),\n",
    "    tf.keras.layers.Flatten(),    #converting to 1d to add dense layers\n",
    "    tf.keras.layers.Dense(128, activation=tf.nn.relu),   \n",
    "    tf.keras.layers.Dense(6, activation=tf.nn.softmax)  #add final output 6 classes with softmax\n",
    "])"
   ]
  },
  {
   "cell_type": "code",
   "execution_count": 104,
   "metadata": {},
   "outputs": [
    {
     "name": "stdout",
     "output_type": "stream",
     "text": [
      "Model: \"sequential_3\"\n",
      "_________________________________________________________________\n",
      "Layer (type)                 Output Shape              Param #   \n",
      "=================================================================\n",
      "conv2d_6 (Conv2D)            (None, 148, 148, 32)      896       \n",
      "_________________________________________________________________\n",
      "max_pooling2d_6 (MaxPooling2 (None, 74, 74, 32)        0         \n",
      "_________________________________________________________________\n",
      "conv2d_7 (Conv2D)            (None, 72, 72, 32)        9248      \n",
      "_________________________________________________________________\n",
      "max_pooling2d_7 (MaxPooling2 (None, 36, 36, 32)        0         \n",
      "_________________________________________________________________\n",
      "flatten_3 (Flatten)          (None, 41472)             0         \n",
      "_________________________________________________________________\n",
      "dense_6 (Dense)              (None, 128)               5308544   \n",
      "_________________________________________________________________\n",
      "dense_7 (Dense)              (None, 6)                 774       \n",
      "=================================================================\n",
      "Total params: 5,319,462\n",
      "Trainable params: 5,319,462\n",
      "Non-trainable params: 0\n",
      "_________________________________________________________________\n"
     ]
    }
   ],
   "source": [
    "model.summary()"
   ]
  },
  {
   "cell_type": "code",
   "execution_count": 105,
   "metadata": {},
   "outputs": [],
   "source": [
    "model.compile(optimizer='adam',loss='sparse_categorical_crossentropy',metrics=['accuracy'])"
   ]
  },
  {
   "cell_type": "code",
   "execution_count": 106,
   "metadata": {},
   "outputs": [
    {
     "name": "stdout",
     "output_type": "stream",
     "text": [
      "Train on 11227 samples, validate on 2807 samples\n",
      "Epoch 1/5\n",
      "11227/11227 [==============================] - 203s 18ms/sample - loss: 54.0362 - accuracy: 0.2533 - val_loss: 1.6568 - val_accuracy: 0.3060\n",
      "Epoch 2/5\n",
      "11227/11227 [==============================] - 200s 18ms/sample - loss: 1.5099 - accuracy: 0.3951 - val_loss: 1.4793 - val_accuracy: 0.3962\n",
      "Epoch 3/5\n",
      "11227/11227 [==============================] - 198s 18ms/sample - loss: 1.1444 - accuracy: 0.5740 - val_loss: 1.3658 - val_accuracy: 0.4482\n",
      "Epoch 4/5\n",
      "11227/11227 [==============================] - 191s 17ms/sample - loss: 0.7597 - accuracy: 0.7161 - val_loss: 1.5032 - val_accuracy: 0.4621\n",
      "Epoch 5/5\n",
      "11227/11227 [==============================] - 184s 16ms/sample - loss: 0.5070 - accuracy: 0.8160 - val_loss: 1.6448 - val_accuracy: 0.4827\n"
     ]
    },
    {
     "data": {
      "text/plain": [
       "<tensorflow.python.keras.callbacks.History at 0x1a80aaa610>"
      ]
     },
     "execution_count": 106,
     "metadata": {},
     "output_type": "execute_result"
    }
   ],
   "source": [
    "model.fit(train_images,train_labels,batch_size=128,epochs=5,validation_split=0.2)"
   ]
  },
  {
   "cell_type": "code",
   "execution_count": 110,
   "metadata": {},
   "outputs": [
    {
     "data": {
      "image/png": "[encoded data removed]",
      "text/plain": [
       "<Figure size 432x288 with 2 Axes>"
      ]
     },
     "metadata": {
      "needs_background": "light"
     },
     "output_type": "display_data"
    }
   ],
   "source": [
    "predictions = model.predict(test_images)\n",
    "pre_labels = np.argmax(predictions,axis=1)\n",
    "CM = confusion_matrix(test_labels, pre_labels)\n",
    "ax = plt.axes()\n",
    "sb.set(font_scale=1.4)\n",
    "sb.heatmap(CM, annot=False,annot_kws={\"size\": 16},  xticklabels=class_names, yticklabels=class_names, ax = ax)\n",
    "ax.set_title('Confusion matrix')\n",
    "plt.show()"
   ]
  }
 ],
 "metadata": {
  "kernelspec": {
   "display_name": "Python 3",
   "language": "python",
   "name": "python3"
  },
  "language_info": {
   "codemirror_mode": {
    "name": "ipython",
    "version": 3
   },
   "file_extension": ".py",
   "mimetype": "text/x-python",
   "name": "python",
   "nbconvert_exporter": "python",
   "pygments_lexer": "ipython3",
   "version": "3.7.4"
  }
 },
 "nbformat": 4,
 "nbformat_minor": 2
}
